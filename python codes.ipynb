{
 "cells": [
  {
   "cell_type": "code",
   "execution_count": 1,
   "id": "03850285",
   "metadata": {},
   "outputs": [
    {
     "name": "stdout",
     "output_type": "stream",
     "text": [
      "hello world\n"
     ]
    }
   ],
   "source": [
    "#Display “Hello World” in your output screen.\n",
    "print(\"hello world\")"
   ]
  },
  {
   "cell_type": "code",
   "execution_count": 4,
   "id": "93f47fd9",
   "metadata": {},
   "outputs": [
    {
     "name": "stdout",
     "output_type": "stream",
     "text": [
      "Enter a number:5\n",
      "Enter a number:9\n",
      "the sum: 14\n"
     ]
    }
   ],
   "source": [
    "#Get the input from the user and perform addition of two numbers.\n",
    "a=int(input(\"Enter a number:\"))\n",
    "b=int(input(\"Enter a number:\"))\n",
    "c=a+b\n",
    "print(\"the sum:\",c)"
   ]
  },
  {
   "cell_type": "code",
   "execution_count": 5,
   "id": "4a9abc35",
   "metadata": {},
   "outputs": [
    {
     "name": "stdout",
     "output_type": "stream",
     "text": [
      "Enter a number:6\n",
      "Enter a number:8\n",
      "A= 6\n",
      "B= 8\n",
      "After swapping:\n",
      "A= 8\n",
      "B= 6\n"
     ]
    }
   ],
   "source": [
    "#swap two variables without temp variable\n",
    "a=int(input(\"Enter a number:\"))\n",
    "b=int(input(\"Enter a number:\"))\n",
    "print(\"A=\",a)\n",
    "print(\"B=\",b)\n",
    "print(\"After swapping:\")\n",
    "a,b=b,a\n",
    "print(\"A=\",a)\n",
    "print(\"B=\",b)"
   ]
  },
  {
   "cell_type": "code",
   "execution_count": 6,
   "id": "d9a7bd42",
   "metadata": {},
   "outputs": [
    {
     "name": "stdout",
     "output_type": "stream",
     "text": [
      "enter km value: 4\n",
      "the miles value is :   2.485484\n"
     ]
    }
   ],
   "source": [
    "#convert the entered kilometres ( Convertion  Factor= 0.621371)\n",
    "a=int(input(\"enter km value: \"))\n",
    "miles=a*0.621371\n",
    "print(\"the miles value is :  \", miles)\n"
   ]
  },
  {
   "cell_type": "code",
   "execution_count": 7,
   "id": "52ba1067",
   "metadata": {},
   "outputs": [
    {
     "name": "stdout",
     "output_type": "stream",
     "text": [
      "enter number 1 : 9\n",
      "the number is positive\n"
     ]
    }
   ],
   "source": [
    "#check whether the given number is positive, negative or 0\n",
    "a=int(input(\"enter number 1 : \"))\n",
    "if a>=0:\n",
    "    print(\"the number is positive\")\n",
    "else:\n",
    "    print(\" the number is negative\")"
   ]
  },
  {
   "cell_type": "code",
   "execution_count": 8,
   "id": "6bde4738",
   "metadata": {},
   "outputs": [
    {
     "name": "stdout",
     "output_type": "stream",
     "text": [
      "enter year : 2024\n",
      "the year is a leap year\n"
     ]
    }
   ],
   "source": [
    "#verify that the given year is a leap year\n",
    "a=int(input(\"enter year : \"))\n",
    "if a%4==0:\n",
    "    if a%100==0:\n",
    "        if a%400==0:\n",
    "            print(\"the year is a leap year\")\n",
    "        else:\n",
    "            print(\"the year is not a leap year\")\n",
    "    else:\n",
    "        print(\"the year is a leap year\")\n",
    "else:\n",
    "    print(\"the year is not a leap year\")"
   ]
  },
  {
   "cell_type": "code",
   "execution_count": 10,
   "id": "1d4593df",
   "metadata": {},
   "outputs": [
    {
     "name": "stdout",
     "output_type": "stream",
     "text": [
      "Enter a start range:1\n",
      "Enter a end range:10\n",
      "2\n",
      "3\n",
      "5\n",
      "7\n"
     ]
    }
   ],
   "source": [
    "#display the prime numbers within the given interval\n",
    "a=int(input(\"Enter a start range:\"))\n",
    "b=int(input(\"Enter a end range:\"))\n",
    "c=0\n",
    "if a==1:\n",
    "    a=2\n",
    "for i in range (a,b):\n",
    "    c=0\n",
    "    for j in range (2,i):       \n",
    "        if i%j==0:\n",
    "            c=1\n",
    "    if c==0:\n",
    "        print(i)"
   ]
  },
  {
   "cell_type": "code",
   "execution_count": 3,
   "id": "c2a17866",
   "metadata": {},
   "outputs": [
    {
     "name": "stdout",
     "output_type": "stream",
     "text": [
      "Enter the number of terms: 7\n",
      "Fibonacci sequence up to 7 terms:\n",
      "0\n",
      "1\n",
      "1\n",
      "2\n",
      "3\n",
      "5\n",
      "8\n"
     ]
    }
   ],
   "source": [
    "#display the Fibonacci sequence up to n-th term\n",
    "n = int(input(\"Enter the number of terms: \"))\n",
    "a = 0\n",
    "b = 1\n",
    "if n <= 0:\n",
    "    print(\"Invalid input!\")\n",
    "elif n == 1:\n",
    "    print(\"Fibonacci sequence up to\", n, \"term:\")\n",
    "    print(a)\n",
    "else:\n",
    "    print(\"Fibonacci sequence up to\", n, \"terms:\")\n",
    "    print(a)\n",
    "    print(b)\n",
    "    for i in range(2, n):\n",
    "        c = a + b\n",
    "        print(c)\n",
    "        a = b\n",
    "        b = c\n"
   ]
  },
  {
   "cell_type": "code",
   "execution_count": 4,
   "id": "a8369cf1",
   "metadata": {},
   "outputs": [
    {
     "name": "stdout",
     "output_type": "stream",
     "text": [
      "enter a three digit number  : 153\n",
      "the number is an armstrong number\n"
     ]
    }
   ],
   "source": [
    "#check if the number is an Armstrong number or not\n",
    "a=int(input(\"enter a three digit number  : \"))#123\n",
    "b=a//100#1\n",
    "c=a%100\n",
    "d=c//10#2\n",
    "e=c%10#3\n",
    "num=(b**3)+(d**3)+(e**3)\n",
    "if num==a:\n",
    "    print(\"the number is an armstrong number\")\n",
    "else :\n",
    "    print(\"its not an armstrong number\")"
   ]
  },
  {
   "cell_type": "code",
   "execution_count": 5,
   "id": "4dd3b5a5",
   "metadata": {},
   "outputs": [
    {
     "name": "stdout",
     "output_type": "stream",
     "text": [
      "enter number : 10\n",
      "55\n"
     ]
    }
   ],
   "source": [
    "#Find the Sum of natural numbers up to n-th term\n",
    "a=int(input(\"enter number : \"))\n",
    "b=0\n",
    "for i in range (a+1):\n",
    "    b=b+i\n",
    "print(b)\n"
   ]
  },
  {
   "cell_type": "code",
   "execution_count": 6,
   "id": "62b438f7",
   "metadata": {},
   "outputs": [
    {
     "name": "stdout",
     "output_type": "stream",
     "text": [
      "*\n",
      "**\n",
      "***\n",
      "****\n",
      "*****\n"
     ]
    }
   ],
   "source": [
    "#Write a function called show_stars(rows). If rows are 5, it should print the following:\n",
    "for i in range(1,6):\n",
    "    print(\"*\"*i)"
   ]
  },
  {
   "cell_type": "code",
   "execution_count": 10,
   "id": "9dfcf504",
   "metadata": {},
   "outputs": [
    {
     "name": "stdout",
     "output_type": "stream",
     "text": [
      "Enter a string: my friend is a fool\n",
      "Enter the number of characters to remove: 5\n",
      "New string: iend is a fool\n"
     ]
    }
   ],
   "source": [
    "#Write a program to remove characters from a string starting from zero up to n and return a new string.\n",
    "str = input(\"Enter a string: \")\n",
    "n = int(input(\"Enter the number of characters to remove: \"))\n",
    "new_str = str[n:]\n",
    "print(\"New string:\", new_str)"
   ]
  },
  {
   "cell_type": "code",
   "execution_count": 13,
   "id": "347e1c7f",
   "metadata": {},
   "outputs": [
    {
     "name": "stdout",
     "output_type": "stream",
     "text": [
      "enter the no.of number:5\n",
      "enter the number:45\n",
      "enter the number:14\n",
      "enter the number:25\n",
      "enter the number:40\n",
      "enter the number:36\n",
      "[45, 25, 40]\n"
     ]
    }
   ],
   "source": [
    "#Iterate the given list of numbers and print only those numbers which are divisible by 5\n",
    "list=[]\n",
    "n=int(input(\"enter the no.of number:\"))\n",
    "for i in range(n):\n",
    "    i=int(input(\"enter the number:\"))\n",
    "    list.append(i)\n",
    "for i in list:\n",
    "    if( i%5!=0):\n",
    "        list.remove(i)\n",
    "print(list)    "
   ]
  },
  {
   "cell_type": "code",
   "execution_count": 15,
   "id": "8ed3fa72",
   "metadata": {},
   "outputs": [
    {
     "name": "stdout",
     "output_type": "stream",
     "text": [
      "enter a sentence : hi mynj hihihi\n",
      "'hi' is present 1 times\n"
     ]
    }
   ],
   "source": [
    "#Write a program to find how many times substring “Hi” appears in the given string.\n",
    "g=input(\"enter a sentence : \")\n",
    "list=g.split(' ')\n",
    "n=len(list)\n",
    "c=0\n",
    "for i in range (n):\n",
    "    if list[i]=='hi':\n",
    "        c+=1\n",
    "if c!=0:\n",
    "    print(\"'hi' is present {} times\".format(c))\n",
    "else:\n",
    "    print(\"'hi' is not present\")\n",
    "        "
   ]
  },
  {
   "cell_type": "code",
   "execution_count": 24,
   "id": "7943ae89",
   "metadata": {},
   "outputs": [
    {
     "name": "stdout",
     "output_type": "stream",
     "text": [
      "1\n",
      "22\n",
      "333\n",
      "4444\n",
      "55555\n"
     ]
    }
   ],
   "source": [
    "#Print the following pattern\n",
    "for i in range(1,6):\n",
    "    for j in range (i):\n",
    "        print(i,end=\"\")\n",
    "    print(end=\"\\n\")"
   ]
  },
  {
   "cell_type": "code",
   "execution_count": 25,
   "id": "f21b0e1c",
   "metadata": {},
   "outputs": [
    {
     "name": "stdout",
     "output_type": "stream",
     "text": [
      "enter the name : malayalam\n",
      "its a palindrome\n"
     ]
    }
   ],
   "source": [
    "#Write a program to check if the given number is a palindrome number.\n",
    "name=input(\"enter the name : \")\n",
    "rev=name[::-1]\n",
    "if name==rev:\n",
    "    print(\"its a palindrome\")\n",
    "else :\n",
    "    print(\"its not a palindrome\")"
   ]
  },
  {
   "cell_type": "code",
   "execution_count": 27,
   "id": "6b3eeab0",
   "metadata": {},
   "outputs": [
    {
     "name": "stdout",
     "output_type": "stream",
     "text": [
      "enter the number of elements:3\n",
      "enter the numbers45\n",
      "enter the numbers67\n",
      "enter the numbers90\n",
      "[45, 67, 90]\n",
      "[90, 67, 45]\n"
     ]
    }
   ],
   "source": [
    "#Python program to interchange first and last elements in a list\n",
    "list=[]\n",
    "n=int(input(\"enter the number of elements:\"))\n",
    "for i in range(n):\n",
    "    i=int(input(\"enter the numbers:\"))\n",
    "    list.append(i)\n",
    "print(list) \n",
    "list[0],list[n-1]=list[n-1],list[0]\n",
    "print(list)"
   ]
  },
  {
   "cell_type": "code",
   "execution_count": 3,
   "id": "6ab07557",
   "metadata": {},
   "outputs": [
    {
     "name": "stdout",
     "output_type": "stream",
     "text": [
      "enter the number of element:5\n",
      "enter the elements:5\n",
      "enter the elements:8\n",
      "enter the elements:7\n",
      "enter the elements:6\n",
      "enter the elements:3\n",
      "[5, 8, 7, 6, 3]\n",
      "index 0 = 5\n",
      "index 1 = 8\n",
      "index 2 = 7\n",
      "index 3 = 6\n",
      "index 4 = 3\n",
      "enter the index value:4\n",
      "enter the index value:0\n",
      "the swapped list is: [3, 8, 7, 6, 5]\n"
     ]
    }
   ],
   "source": [
    "#Python program to swap two elements in a list\n",
    "n=int(input(\"enter the number of element:\"))\n",
    "list=[]\n",
    "for i in range(n):\n",
    "    a=int(input(\"enter the elements:\"))\n",
    "    list.append(a)\n",
    "print(list) \n",
    "for i in range(n):\n",
    "    print(\"index\",i,\"=\",list[i])\n",
    "m=int(input(\"enter the index value:\"))\n",
    "s=int(input(\"enter the index value:\"))\n",
    "list[m],list[s]=list[s],list[m]\n",
    "print(\"the swapped list is:\",list)"
   ]
  },
  {
   "cell_type": "code",
   "execution_count": 14,
   "id": "5225d692",
   "metadata": {},
   "outputs": [
    {
     "name": "stdout",
     "output_type": "stream",
     "text": [
      "[1, 2, 3, 4, 5, 6, 7, 8, 9, 10]\n",
      "the no. of element is: 10\n",
      "[1, 2, 3, 4, 5, 6, 7, 8, 9, 10]\n",
      "the no. of element is: 10\n"
     ]
    }
   ],
   "source": [
    "#Python | Ways to find length of list\n",
    "list=[1,2,3,4,5,6,7,8,9,10]\n",
    "print(list) \n",
    "n=len(list)\n",
    "print(\"the no. of element is:\",n)\n",
    "#or\n",
    "list=[1,2,3,4,5,6,7,8,9,10]\n",
    "print(list) \n",
    "c=0\n",
    "for i in list:\n",
    "    c+=1\n",
    "print(\"the no. of element is:\",c)    "
   ]
  },
  {
   "cell_type": "code",
   "execution_count": 16,
   "id": "93961698",
   "metadata": {},
   "outputs": [
    {
     "name": "stdout",
     "output_type": "stream",
     "text": [
      "enter the elements:4\n",
      "enter the elements:5\n",
      "the maximum number is: 5\n"
     ]
    }
   ],
   "source": [
    "#Maximum of two numbers in Python\n",
    "a=int(input(\"enter the elements:\"))\n",
    "b=int(input(\"enter the elements:\"))\n",
    "max=max(a,b)\n",
    "print(\"the maximum number is:\",max)      "
   ]
  },
  {
   "cell_type": "code",
   "execution_count": 17,
   "id": "1811d156",
   "metadata": {
    "scrolled": true
   },
   "outputs": [
    {
     "name": "stdout",
     "output_type": "stream",
     "text": [
      "enter the elements:45\n",
      "enter the elements:67\n",
      "the minimum number is: 45\n"
     ]
    }
   ],
   "source": [
    "#Minimum of two numbers in Python\n",
    "a=int(input(\"enter the elements:\"))\n",
    "b=int(input(\"enter the elements:\"))\n",
    "min=min(a,b)\n",
    "print(\"the minimum number is:\",min)      "
   ]
  },
  {
   "cell_type": "code",
   "execution_count": 37,
   "id": "76f43bbc",
   "metadata": {},
   "outputs": [
    {
     "name": "stdout",
     "output_type": "stream",
     "text": [
      "enter the string:malayalam\n",
      "malayalam\n",
      "it is not symmetrical\n",
      "it is palindrome\n"
     ]
    }
   ],
   "source": [
    "#Python program to check whether the string is Symmetrical or Palindrome\n",
    "a=input(\"enter the string:\")\n",
    "print(a)\n",
    "half=int((len(a)/2))\n",
    "first=a[:half]\n",
    "last=a[half:]\n",
    "x=last[::-1]\n",
    "if(first==x):\n",
    "    print(\"it is symmetrical\")\n",
    "else:\n",
    "    print(\"it is not symmetrical\")\n",
    "b=a[::-1]\n",
    "if(a==b):\n",
    "    print(\"it is palindrome\")\n",
    "else:\n",
    "    print(\"it is not palindrome\")"
   ]
  },
  {
   "cell_type": "code",
   "execution_count": 29,
   "id": "8bc17a11",
   "metadata": {},
   "outputs": [
    {
     "name": "stdout",
     "output_type": "stream",
     "text": [
      "enter the string:malayalam\n",
      "malayalam\n"
     ]
    }
   ],
   "source": [
    "#Reverse words in a given String in Python\n",
    "a=input(\"enter the string:\")\n",
    "b=''.join(reversed(a))\n",
    "print(b)\n",
    "if(a==b):\n",
    "    print(\"it is palindrome\")\n",
    "else:\n",
    "    print(\"it is not palindrome\")"
   ]
  },
  {
   "cell_type": "code",
   "execution_count": 43,
   "id": "e8e8a6ec",
   "metadata": {},
   "outputs": [
    {
     "name": "stdout",
     "output_type": "stream",
     "text": [
      "enter the string:malayalam\n",
      "enter the index value:3\n",
      "malyalam\n"
     ]
    }
   ],
   "source": [
    "#Ways to remove i’th character from string in Python\n",
    "a=input(\"enter the string:\")\n",
    "b=int(input(\"enter the index value:\"))\n",
    "c=a[:b]+a[b+1:]\n",
    "print(c)"
   ]
  },
  {
   "cell_type": "code",
   "execution_count": 44,
   "id": "22237a80",
   "metadata": {},
   "outputs": [
    {
     "name": "stdout",
     "output_type": "stream",
     "text": [
      "enter the string:hi hello\n",
      "8\n"
     ]
    }
   ],
   "source": [
    "#Find length of a string in python \n",
    "a=input(\"enter the string:\")\n",
    "n=len(a)\n",
    "print(n)"
   ]
  },
  {
   "cell_type": "code",
   "execution_count": 3,
   "id": "9fc5bfe4",
   "metadata": {},
   "outputs": [
    {
     "name": "stdout",
     "output_type": "stream",
     "text": [
      "enter the string:hi hello everyone\n",
      "hi\n",
      "everyone\n"
     ]
    }
   ],
   "source": [
    "#Python program to print even length words in a string\n",
    "a=input(\"enter the string:\")\n",
    "n=len(a)\n",
    "b=a.split(\" \")\n",
    "for i in b:\n",
    "    if(len(i)%2==0):\n",
    "        print(i)"
   ]
  },
  {
   "cell_type": "code",
   "execution_count": 1,
   "id": "e5789015",
   "metadata": {},
   "outputs": [
    {
     "name": "stdout",
     "output_type": "stream",
     "text": [
      "5\n"
     ]
    }
   ],
   "source": [
    "#Python program to Find the size of a Tuple\n",
    "tuple=(2,4,8,16,32)\n",
    "b=len(tuple)\n",
    "print(b)    "
   ]
  },
  {
   "cell_type": "code",
   "execution_count": 5,
   "id": "169a2d86",
   "metadata": {},
   "outputs": [
    {
     "name": "stdout",
     "output_type": "stream",
     "text": [
      "Maximum value=  25\n",
      "Minimum value=  5\n"
     ]
    }
   ],
   "source": [
    "#Python – Maximum and Minimum K elements in Tuple\n",
    "t=(5,10,15,20,25)\n",
    "print(\"Maximum value= \",max(t))\n",
    "print(\"Minimum value= \",min(t)) "
   ]
  },
  {
   "cell_type": "code",
   "execution_count": 6,
   "id": "880840b2",
   "metadata": {},
   "outputs": [
    {
     "name": "stdout",
     "output_type": "stream",
     "text": [
      "Sum of tuple elements: 150\n"
     ]
    }
   ],
   "source": [
    "#Python – Sum of tuple elements\n",
    "my_tuple = (10, 20, 30, 40, 50)\n",
    "total = 0\n",
    "for element in my_tuple:\n",
    "    total=total + element\n",
    "print(\"Sum of tuple elements:\", total)\n"
   ]
  },
  {
   "cell_type": "code",
   "execution_count": 10,
   "id": "4bf7f527",
   "metadata": {},
   "outputs": [
    {
     "name": "stdout",
     "output_type": "stream",
     "text": [
      "Row-wise sums: [14, 39, 84]\n"
     ]
    }
   ],
   "source": [
    "#Python – Row-wise element Addition in Tuple Matrix\n",
    "matrix = ((2, 4, 8),\n",
    "          (3, 9, 27),\n",
    "          (4, 16, 64))\n",
    "sums = []\n",
    "for row in matrix:\n",
    "    sum = 0\n",
    "    for element in row:\n",
    "        sum += element\n",
    "    sums.append(sum)\n",
    "print(\"Row-wise sums:\",sums)\n"
   ]
  },
  {
   "cell_type": "code",
   "execution_count": 1,
   "id": "2e5b0c74",
   "metadata": {},
   "outputs": [
    {
     "name": "stdout",
     "output_type": "stream",
     "text": [
      "[(3, 27), (4, 64), (1, 1), (2, 8)]\n"
     ]
    }
   ],
   "source": [
    "#31. Create a list of tuples from given list having number and its cube in each tuple.\n",
    "def cubeoflist(li):\n",
    "    result=[(num, num**3) for num in li]\n",
    "    return result\n",
    "li = [3, 4, 1, 2]\n",
    "print(cubeoflist(li))"
   ]
  },
  {
   "cell_type": "code",
   "execution_count": 2,
   "id": "7533c369",
   "metadata": {},
   "outputs": [
    {
     "name": "stdout",
     "output_type": "stream",
     "text": [
      "{'rajnish': 9, 'ravi': 10, 'sanjeev': 15, 'suraj': 32, 'yash': 2}\n"
     ]
    }
   ],
   "source": [
    "#32.Python - Sort python dictionaries by key or value\n",
    "myDict = {'ravi': 10, 'rajnish': 9,\n",
    "        'sanjeev': 15, 'yash': 2, 'suraj': 32}\n",
    " \n",
    "myKeys = list(myDict.keys())\n",
    "myKeys.sort()\n",
    "sorted_dict = {i: myDict[i] for i in myKeys}\n",
    " \n",
    "print(sorted_dict)"
   ]
  },
  {
   "cell_type": "code",
   "execution_count": 3,
   "id": "4f73482a",
   "metadata": {},
   "outputs": [
    {
     "name": "stdout",
     "output_type": "stream",
     "text": [
      "{'x-y+z': [12, 15]}\n"
     ]
    }
   ],
   "source": [
    "#33. Python dictionary with keys having multiple values.\n",
    "dic = {}\n",
    "\n",
    "a,b,c= 5, 3, 10\n",
    "\n",
    "p,q,r= 12, 6, 9\n",
    "dic[\"x-y+z\"] = [a-b+c,p-q+r]\n",
    "print(dic)"
   ]
  },
  {
   "cell_type": "code",
   "execution_count": 4,
   "id": "40dc89e4",
   "metadata": {},
   "outputs": [
    {
     "name": "stdout",
     "output_type": "stream",
     "text": [
      "Dictionary:  {'x': 455, 'y': 223, 'z': 300, 'p': 908}\n",
      "sum:  1886\n"
     ]
    }
   ],
   "source": [
    "#34. Python program to find the sum of all items in a dictionary.\n",
    "dic={ 'x':455, 'y':223, 'z':300, 'p':908 }\n",
    "\n",
    "print(\"Dictionary: \", dic)\n",
    "\n",
    "#using sum() and values()\n",
    "print(\"sum: \",sum(dic.values()))"
   ]
  },
  {
   "cell_type": "code",
   "execution_count": 6,
   "id": "ee7bb61d",
   "metadata": {},
   "outputs": [
    {
     "name": "stdout",
     "output_type": "stream",
     "text": [
      "The size of the dictionary is 232 bytes.\n"
     ]
    }
   ],
   "source": [
    "#35. Python program to find the size of a dictionary\n",
    "import sys\n",
    "\n",
    "def get_dictionary_size(dictionary):\n",
    "    return sys.getsizeof(dictionary)\n",
    "my_dict = {'key1': 100, 'key2': 200, 'key3': 300}\n",
    "size = get_dictionary_size(my_dict)\n",
    "print(f\"The size of the dictionary is {size} bytes.\")\n"
   ]
  },
  {
   "cell_type": "code",
   "execution_count": 13,
   "id": "ad3c7898",
   "metadata": {},
   "outputs": [
    {
     "name": "stdout",
     "output_type": "stream",
     "text": [
      "The size of the set is 408 bytes.\n",
      "The size of the set is 408 bytes.\n",
      "The size of the set is 408 bytes.\n"
     ]
    }
   ],
   "source": [
    "#36. Find the size of a set in Python\n",
    "import sys\n",
    "def get_set1_size(set):\n",
    "    return sys.getsizeof(set1)\n",
    "def get_set2_size(set):\n",
    "    return sys.getsizeof(set2)\n",
    "def get_set3_size(set):\n",
    "    return sys.getsizeof(set3)\n",
    "Set1 = {\"A\", 1, \"B\", 2, \"C\", 3}\n",
    "Set2 = {\"Geek1\", \"Raju\", \"Geek2\", \"Nikhil\", \"Geek3\", \"Deepanshu\"}\n",
    "Set3 = {(1, \"Lion\"), ( 2, \"Tiger\"), (3, \"Fox\")}\n",
    "size = get_set_size(set)\n",
    "print(f\"The size of the set is {size} bytes.\")\n",
    "size = get_set_size(set)\n",
    "print(f\"The size of the set is {size} bytes.\")\n",
    "size = get_set_size(set)\n",
    "print(f\"The size of the set is {size} bytes.\")"
   ]
  },
  {
   "cell_type": "code",
   "execution_count": 15,
   "id": "1780497a",
   "metadata": {},
   "outputs": [
    {
     "name": "stdout",
     "output_type": "stream",
     "text": [
      "1\n",
      "2\n",
      "3\n",
      "4\n",
      "5\n"
     ]
    }
   ],
   "source": [
    "#37. Iterate over a set in Python\n",
    "my_set = {1, 2, 3, 4, 5}\n",
    "for element in my_set:\n",
    "    print(element)"
   ]
  },
  {
   "cell_type": "code",
   "execution_count": 16,
   "id": "eef338bd",
   "metadata": {},
   "outputs": [
    {
     "name": "stdout",
     "output_type": "stream",
     "text": [
      "The maximum element in the set is: 999\n",
      "The minimum element in the set is: 8\n"
     ]
    }
   ],
   "source": [
    "#38. Python- Maximum and minimum in a Set\n",
    "def MAX(sets):\n",
    "    return (max(sets))\n",
    "sets=set([23,8,19,28,25,78,98,345,678,999])\n",
    "print(\"The maximum element in the set is:\",MAX(sets))\n",
    "def MIN(sets):\n",
    "    return(min(sets))\n",
    "print(\"The minimum element in the set is:\",MIN(sets))"
   ]
  },
  {
   "cell_type": "code",
   "execution_count": 18,
   "id": "920dc104",
   "metadata": {},
   "outputs": [
    {
     "name": "stdout",
     "output_type": "stream",
     "text": [
      "{'English', 'C++', 'Java', 'Hindi', 'Tamil', 'Python'}\n"
     ]
    }
   ],
   "source": [
    "#39. Python-Remove items from a set\n",
    "languages={'Python','Java','English','C','C++','Tamil','Hindi'}\n",
    "languages.remove('C')\n",
    "print(languages)"
   ]
  },
  {
   "cell_type": "code",
   "execution_count": 19,
   "id": "3ad94c47",
   "metadata": {},
   "outputs": [
    {
     "name": "stdout",
     "output_type": "stream",
     "text": [
      "True\n",
      "False\n"
     ]
    }
   ],
   "source": [
    "#40. Python-Check if two lists have atleast one element in common\n",
    "def common_data(list1,list2):\n",
    "    result=False\n",
    "    for x in list1:\n",
    "        for y in list2:\n",
    "            if x==y:\n",
    "                result=True\n",
    "                return result\n",
    "    return result\n",
    "a=[1,2,3,4,5]\n",
    "b=[5,6,7,8,9]\n",
    "print(common_data(a,b))\n",
    "a=[1,2,3,4,5]\n",
    "b=[6,7,8,9]\n",
    "print(common_data(a,b))"
   ]
  },
  {
   "cell_type": "code",
   "execution_count": 22,
   "id": "1d0b2049",
   "metadata": {},
   "outputs": [
    {
     "name": "stdout",
     "output_type": "stream",
     "text": [
      "[1, 2, 3]\n",
      "[1, 2, 3]\n",
      "[1, 2, 3]\n"
     ]
    }
   ],
   "source": [
    "#41. Python-Assigning subsequent rows to matrix first row elements\n",
    "matrix = [[1, 2, 3], [4, 5, 6], [7, 8, 9]]\n",
    "for i in range(1, len(matrix)):\n",
    "    for j in range(len(matrix[i])):\n",
    "        matrix[i][j] = matrix[0][j]\n",
    "for row in matrix:\n",
    "    print(row)\n"
   ]
  },
  {
   "cell_type": "code",
   "execution_count": 23,
   "id": "5fe9af07",
   "metadata": {},
   "outputs": [
    {
     "name": "stdout",
     "output_type": "stream",
     "text": [
      "Printing elements of first matrix\n",
      "[[1 2]\n",
      " [3 4]]\n",
      "Printing elements of second matrix\n",
      "[[4 5]\n",
      " [6 7]]\n",
      "Addition of two matrix\n",
      "[[ 5  7]\n",
      " [ 9 11]]\n",
      "Subtraction of two matrix\n",
      "[[-3 -3]\n",
      " [-3 -3]]\n"
     ]
    }
   ],
   "source": [
    "#42. Adding and Subtracting matrices in python\n",
    "import numpy as np\n",
    "A=np.array([[1,2],[3,4]])\n",
    "B=np.array([[4,5],[6,7]])\n",
    "print(\"Printing elements of first matrix\")\n",
    "print(A)\n",
    "print(\"Printing elements of second matrix\")\n",
    "print(B)\n",
    "print(\"Addition of two matrix\")\n",
    "print(np.add(A,B))\n",
    "print(\"Subtraction of two matrix\")\n",
    "print(np.subtract(A,B))"
   ]
  },
  {
   "cell_type": "code",
   "execution_count": 24,
   "id": "2d9bb1f5",
   "metadata": {
    "scrolled": true
   },
   "outputs": [
    {
     "name": "stdout",
     "output_type": "stream",
     "text": [
      "The original list:[1, 3, 5, 1, 3, 2, 5, 4, 2]\n",
      "Matrix after grouping:[[1, 1], [2, 2], [3, 3], [4], [5, 5]]\n"
     ]
    }
   ],
   "source": [
    "#43. Python-Group similar elements into Matrix\n",
    "from itertools import groupby\n",
    "test_list=[1,3,5,1,3,2,5,4,2]\n",
    "print(\"The original list:\" +str(test_list))\n",
    "res =[list(val) for key, val in groupby(sorted(test_list))]\n",
    "print(\"Matrix after grouping:\"+str(res))"
   ]
  },
  {
   "cell_type": "code",
   "execution_count": 25,
   "id": "893c8939",
   "metadata": {},
   "outputs": [
    {
     "name": "stdout",
     "output_type": "stream",
     "text": [
      "The original list is:[[('Gfg', 3), ('is', 3)], [('best', 1)], [('for', 5), ('geeks', 1)]]\n",
      "The matrix after row elements addition :[[('Gfg', 3, 6), ('is', 3, 6)], [('best', 1, 7)], [('for', 5, 8), ('geeks', 1, 8)]]\n"
     ]
    }
   ],
   "source": [
    "#44)Python – Row-wise element Addition in Tuple Matrix\n",
    "test_list=[[('Gfg',3), ('is',3)], [('best',1)], [('for',5), ('geeks',1)]]\n",
    "print(\"The original list is:\"+ str(test_list))\n",
    "cus_eles=[6,7,8]\n",
    "res=[[sub+(cus_eles[idx],) for sub in val] for idx, val in enumerate(test_list)]\n",
    "print(\"The matrix after row elements addition :\"+str(res))"
   ]
  },
  {
   "cell_type": "code",
   "execution_count": 26,
   "id": "322b74fb",
   "metadata": {},
   "outputs": [
    {
     "name": "stdout",
     "output_type": "stream",
     "text": [
      "1 2 3 4 \n",
      "8 7 6 5 \n",
      "9 10 11 12 \n",
      "16 15 14 13 \n"
     ]
    }
   ],
   "source": [
    "#45)Create an n x n square matrix, where all the sub-matrix has the sum of opposite corner elements as even\n",
    "import itertools\n",
    "def sub_mat_even(n):\n",
    "    temp = itertools.count(1)\n",
    "    l = [[next(temp)for i in range(n)]for i in range(n)]\n",
    "    if n%2 == 0:\n",
    "        for i in range(0,len(l)):\n",
    "            if i%2 == 1:\n",
    "                l[i][:] = l[i][::-1]\n",
    "# Printing the array formed\n",
    "    for i in range(n):\n",
    "        for j in range(n):\n",
    "            print(l[i][j],end=\" \")\n",
    "        print()\n",
    "n = 4\n",
    "sub_mat_even(n)"
   ]
  },
  {
   "cell_type": "code",
   "execution_count": 27,
   "id": "a97a0903",
   "metadata": {},
   "outputs": [
    {
     "name": "stdout",
     "output_type": "stream",
     "text": [
      "(a, b)\n"
     ]
    }
   ],
   "source": [
    "#46)How to get list of parameters name from a function in Python?\n",
    "import inspect\n",
    "def fun(a, b):\n",
    "    return a**b\n",
    "print(inspect.signature(fun))"
   ]
  },
  {
   "cell_type": "code",
   "execution_count": 30,
   "id": "adf53866",
   "metadata": {},
   "outputs": [
    {
     "name": "stdout",
     "output_type": "stream",
     "text": [
      "John 30 New York\n"
     ]
    }
   ],
   "source": [
    "#47)How to Print Multiple Arguments in Python?\n",
    "name = \"John\"\n",
    "age = 30\n",
    "city = \"New York\"\n",
    "\n",
    "print(name, age, city)\n"
   ]
  },
  {
   "cell_type": "code",
   "execution_count": 37,
   "id": "2a593095",
   "metadata": {},
   "outputs": [
    {
     "name": "stdout",
     "output_type": "stream",
     "text": [
      "2 raised to the power of 3 is: 8\n"
     ]
    }
   ],
   "source": [
    "#48)Python program to find the power of a number using recursion\n",
    "def power(base, exponent):\n",
    "    if exponent == 0:\n",
    "        return 1\n",
    "    else:\n",
    "        return base * power(base, exponent - 1)\n",
    "\n",
    "base = 2\n",
    "exponent = 3\n",
    "\n",
    "result = power(base, exponent)\n",
    "print(f\"{base} raised to the power of {exponent} is: {result}\")\n"
   ]
  },
  {
   "cell_type": "code",
   "execution_count": 1,
   "id": "728b4f62",
   "metadata": {},
   "outputs": [
    {
     "name": "stdout",
     "output_type": "stream",
     "text": [
      "Bob 20\n",
      "John 25\n",
      "Alice 30\n"
     ]
    }
   ],
   "source": [
    "#49)Sorting objects of user defined class in Python\n",
    "class MyClass:\n",
    "    def __init__(self, name, age):\n",
    "        self.name = name\n",
    "        self.age = age\n",
    "    def __lt__(self, other):\n",
    "        return self.age < other.age\n",
    "obj1 = MyClass(\"John\", 25)\n",
    "obj2 = MyClass(\"Alice\", 30)\n",
    "obj3 = MyClass(\"Bob\", 20)\n",
    "my_list = [obj1, obj2, obj3]\n",
    "sorted_list = sorted(my_list)\n",
    "for obj in sorted_list:\n",
    "    print(obj.name, obj.age)\n"
   ]
  },
  {
   "cell_type": "code",
   "execution_count": 2,
   "id": "ab670d6e",
   "metadata": {},
   "outputs": [
    {
     "name": "stdout",
     "output_type": "stream",
     "text": [
      "name John\n",
      "age 25\n",
      "city New York\n"
     ]
    }
   ],
   "source": [
    "#50)Functions that accept variable length key value pair as arguments\n",
    "def process_data(**kwargs):\n",
    "    for key, value in kwargs.items():\n",
    "        print(key, value)\n",
    "process_data(name=\"John\", age=25, city=\"New York\")\n"
   ]
  }
 ],
 "metadata": {
  "kernelspec": {
   "display_name": "Python 3 (ipykernel)",
   "language": "python",
   "name": "python3"
  },
  "language_info": {
   "codemirror_mode": {
    "name": "ipython",
    "version": 3
   },
   "file_extension": ".py",
   "mimetype": "text/x-python",
   "name": "python",
   "nbconvert_exporter": "python",
   "pygments_lexer": "ipython3",
   "version": "3.10.9"
  }
 },
 "nbformat": 4,
 "nbformat_minor": 5
}
